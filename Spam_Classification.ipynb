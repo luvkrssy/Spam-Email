# Spam_Classification.ipynb

# Import necessary modules
from src.preprocess import load_and_preprocess_data, extract_features
from src.train import train_model
from src.evaluate import evaluate_model

# Load and preprocess data
X_train, X_test, y_train, y_test = load_and_preprocess_data('../data/spam.csv')

# Extract features
X_train_tfidf, X_test_tfidf, vectorizer = extract_features(X_train, X_test)

# Train the model
model = train_model(X_train_tfidf, y_train, model_type='logistic')

# Evaluate the model
evaluate_model(model, X_test_tfidf, y_test)
